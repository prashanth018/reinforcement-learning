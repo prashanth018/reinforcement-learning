{
 "cells": [
  {
   "cell_type": "code",
   "execution_count": null,
   "metadata": {},
   "outputs": [],
   "source": [
    "import tensorflow as tf\n",
    "tf.enable_eager_execution()\n",
    "\n",
    "import matplotlib.pyplot as plt\n",
    "%matplotlib inline\n",
    "\n",
    "import numpy as np\n",
    "import gym\n",
    "\n",
    "from collections import deque"
   ]
  },
  {
   "cell_type": "code",
   "execution_count": 45,
   "metadata": {},
   "outputs": [],
   "source": [
    "ENV_NAME = 'CartPole-v0'\n",
    "\n",
    "env = gym.make(ENV_NAME)"
   ]
  },
  {
   "cell_type": "code",
   "execution_count": 46,
   "metadata": {},
   "outputs": [
    {
     "data": {
      "text/plain": [
       "(4, 2)"
      ]
     },
     "execution_count": 46,
     "metadata": {},
     "output_type": "execute_result"
    }
   ],
   "source": [
    "n_obs_params = env.observation_space.shape[0]\n",
    "n_acts = env.action_space.n\n",
    "\n",
    "n_obs_params, n_acts"
   ]
  },
  {
   "cell_type": "code",
   "execution_count": 47,
   "metadata": {},
   "outputs": [
    {
     "name": "stdout",
     "output_type": "stream",
     "text": [
      "_________________________________________________________________\n",
      "Layer (type)                 Output Shape              Param #   \n",
      "=================================================================\n",
      "dense_10 (Dense)             (None, 16)                80        \n",
      "_________________________________________________________________\n",
      "dense_11 (Dense)             (None, 2)                 34        \n",
      "=================================================================\n",
      "Total params: 114\n",
      "Trainable params: 114\n",
      "Non-trainable params: 0\n",
      "_________________________________________________________________\n"
     ]
    }
   ],
   "source": [
    "net = tf.keras.Sequential([\n",
    "    tf.keras.layers.Dense(16, activation=tf.nn.relu, input_shape=(n_obs_params, )),\n",
    "    tf.keras.layers.Dense(n_acts, activation=tf.nn.softmax)\n",
    "])\n",
    "\n",
    "net.summary()"
   ]
  },
  {
   "cell_type": "markdown",
   "metadata": {},
   "source": [
    "Let's see the output of our network given an observation from environment"
   ]
  },
  {
   "cell_type": "code",
   "execution_count": 48,
   "metadata": {},
   "outputs": [
    {
     "name": "stdout",
     "output_type": "stream",
     "text": [
      "tf.Tensor([0.5006045  0.49939552], shape=(2,), dtype=float32)\n",
      "tf.Tensor(0, shape=(), dtype=int64)\n"
     ]
    }
   ],
   "source": [
    "sample_obs = env.reset()\n",
    "sample_obs = np.expand_dims(sample_obs, axis=0)\n",
    "\n",
    "prob_logits = net(sample_obs)[0]\n",
    "action_chosen = tf.argmax(prob_logits)\n",
    "\n",
    "print(prob_logits)\n",
    "print(action_chosen)"
   ]
  },
  {
   "cell_type": "code",
   "execution_count": 49,
   "metadata": {},
   "outputs": [],
   "source": [
    "def play_episode(net, render=False):\n",
    "    \n",
    "    observations = []\n",
    "    actions = []\n",
    "    rewards = []\n",
    "    \n",
    "    obs = env.reset()\n",
    "    done = False\n",
    "    \n",
    "    while not done:\n",
    "        if render: env.render()\n",
    "        \n",
    "        observations.append(obs)\n",
    "        obs = np.expand_dims(obs, axis=0)\n",
    "        logits = net(obs)\n",
    "        act = tf.squeeze(tf.multinomial(logits=logits, num_samples=1), axis=1)[0].numpy()\n",
    "        actions.append(act)\n",
    "        next_obs, reward, done, info = env.step(act)\n",
    "        rewards.append(reward)\n",
    "        obs = next_obs\n",
    "        \n",
    "    return observations, actions, rewards"
   ]
  },
  {
   "cell_type": "code",
   "execution_count": 50,
   "metadata": {},
   "outputs": [
    {
     "data": {
      "text/plain": [
       "([array([ 0.01252563,  0.02398904, -0.00408571,  0.01278471]),\n",
       "  array([ 0.01300541, -0.17107408, -0.00383001,  0.30417575]),\n",
       "  array([0.00958393, 0.02410225, 0.0022535 , 0.01028739]),\n",
       "  array([ 0.01006597, -0.17105195,  0.00245925,  0.30368047]),\n",
       "  array([ 0.00664493, -0.36620886,  0.00853286,  0.59713797]),\n",
       "  array([-0.00067925, -0.17120735,  0.02047562,  0.30715498]),\n",
       "  array([-0.00410339, -0.36661499,  0.02661872,  0.60622441]),\n",
       "  array([-0.01143569, -0.56209884,  0.03874321,  0.90717129]),\n",
       "  array([-0.02267767, -0.75772329,  0.05688663,  1.21177542]),\n",
       "  array([-0.03783213, -0.95353156,  0.08112214,  1.52172836]),\n",
       "  array([-0.05690277, -1.14953458,  0.11155671,  1.83858979]),\n",
       "  array([-0.07989346, -1.34569814,  0.1483285 ,  2.16373579]),\n",
       "  array([-0.10680742, -1.15230641,  0.19160322,  1.92028236])],\n",
       " [0, 1, 0, 0, 1, 0, 0, 0, 0, 0, 0, 1, 1],\n",
       " [1.0, 1.0, 1.0, 1.0, 1.0, 1.0, 1.0, 1.0, 1.0, 1.0, 1.0, 1.0, 1.0])"
      ]
     },
     "execution_count": 50,
     "metadata": {},
     "output_type": "execute_result"
    }
   ],
   "source": [
    "play_episode(net)"
   ]
  },
  {
   "cell_type": "code",
   "execution_count": 51,
   "metadata": {},
   "outputs": [],
   "source": [
    "def _convert_rewards_to_advantages(rewards):\n",
    "    for i in range(-2, -len(rewards)-1, -1):\n",
    "        rewards[i] += rewards[i+1]"
   ]
  },
  {
   "cell_type": "code",
   "execution_count": 52,
   "metadata": {},
   "outputs": [],
   "source": [
    "test_list = [1, 2, 3, 4]\n",
    "_convert_rewards_to_advantages(test_list)\n",
    "\n",
    "assert test_list == [10, 9, 7, 4]"
   ]
  },
  {
   "cell_type": "code",
   "execution_count": 53,
   "metadata": {},
   "outputs": [],
   "source": [
    "def train(net, optimizer, observations, actions, advantages, learning_rate=1e-3):\n",
    "    \n",
    "    observations = np.array(observations, dtype=np.float32)\n",
    "    actions = np.array(actions, dtype=np.int32)\n",
    "    advantages = np.array(advantages, dtype=np.float32)\n",
    "    \n",
    "    assert len(observations) == len(actions) == len(advantages)\n",
    "    \n",
    "    with tf.GradientTape() as t:\n",
    "        \n",
    "        probs_actions = net(observations)\n",
    "        action_masks = tf.one_hot(actions, n_acts)\n",
    "        \n",
    "        log_pi = tf.reduce_sum(action_masks * tf.nn.log_softmax(probs_actions), axis=1)\n",
    "        #print(log_pi)\n",
    "        loss = -tf.reduce_mean( log_pi * advantages )\n",
    "    \n",
    "    d_loss_d_w = t.gradient(loss, net.trainable_weights)\n",
    "    optimizer.apply_gradients(zip(d_loss_d_w, net.trainable_weights))\n",
    "    \n",
    "    return loss"
   ]
  },
  {
   "cell_type": "code",
   "execution_count": 54,
   "metadata": {},
   "outputs": [],
   "source": [
    "observations, actions, rewards = play_episode(net)\n",
    "_convert_rewards_to_advantages(rewards)"
   ]
  },
  {
   "cell_type": "code",
   "execution_count": 55,
   "metadata": {},
   "outputs": [
    {
     "data": {
      "text/plain": [
       "<tf.Tensor: id=7438563, shape=(), dtype=float32, numpy=6.664418>"
      ]
     },
     "execution_count": 55,
     "metadata": {},
     "output_type": "execute_result"
    }
   ],
   "source": [
    "train(net, tf.train.AdamOptimizer(learning_rate=1e-2), observations, actions, rewards)"
   ]
  },
  {
   "cell_type": "code",
   "execution_count": 56,
   "metadata": {},
   "outputs": [
    {
     "name": "stdout",
     "output_type": "stream",
     "text": [
      "Episode 24: Reward = 25.68\n",
      "Loss = 12.84801959991455\n",
      "Episode 49: Reward = 30.92\n",
      "Loss = 13.88710880279541\n",
      "Episode 74: Reward = 30.96\n",
      "Loss = 13.513532638549805\n",
      "Episode 99: Reward = 27.8\n",
      "Loss = 11.627965927124023\n",
      "Episode 124: Reward = 30.56\n",
      "Loss = 12.238093376159668\n",
      "Episode 149: Reward = 41.68\n",
      "Loss = 16.866405487060547\n",
      "Episode 174: Reward = 40.4\n",
      "Loss = 17.21892547607422\n",
      "Episode 199: Reward = 41.32\n",
      "Loss = 19.61188316345215\n",
      "Episode 224: Reward = 37.0\n",
      "Loss = 14.223655700683594\n",
      "Episode 249: Reward = 47.12\n",
      "Loss = 18.473506927490234\n",
      "Episode 274: Reward = 48.16\n",
      "Loss = 18.564058303833008\n",
      "Episode 299: Reward = 45.88\n",
      "Loss = 18.801652908325195\n",
      "Episode 324: Reward = 48.4\n",
      "Loss = 18.708669662475586\n",
      "Episode 349: Reward = 60.76\n",
      "Loss = 24.638866424560547\n",
      "Episode 374: Reward = 60.28\n",
      "Loss = 26.26044273376465\n",
      "Episode 399: Reward = 53.24\n",
      "Loss = 19.812255859375\n",
      "Episode 424: Reward = 57.76\n",
      "Loss = 22.59198570251465\n",
      "Episode 449: Reward = 67.48\n",
      "Loss = 23.99311637878418\n",
      "Episode 474: Reward = 67.04\n",
      "Loss = 27.09157371520996\n",
      "Episode 499: Reward = 73.68\n",
      "Loss = 28.291046142578125\n",
      "Episode 524: Reward = 56.6\n",
      "Loss = 21.053730010986328\n",
      "Episode 549: Reward = 73.04\n",
      "Loss = 25.661470413208008\n",
      "Episode 574: Reward = 76.32\n",
      "Loss = 31.036731719970703\n",
      "Episode 599: Reward = 79.16\n",
      "Loss = 25.8935546875\n",
      "Episode 624: Reward = 87.24\n",
      "Loss = 30.99170684814453\n",
      "Episode 649: Reward = 111.12\n",
      "Loss = 40.105857849121094\n",
      "Episode 674: Reward = 100.6\n",
      "Loss = 36.339717864990234\n",
      "Episode 699: Reward = 118.88\n",
      "Loss = 39.886077880859375\n",
      "Episode 724: Reward = 158.12\n",
      "Loss = 50.65692901611328\n",
      "Episode 749: Reward = 147.2\n",
      "Loss = 48.569610595703125\n",
      "Episode 774: Reward = 127.88\n",
      "Loss = 45.29108428955078\n",
      "Episode 799: Reward = 129.84\n",
      "Loss = 41.40907669067383\n",
      "Episode 824: Reward = 149.72\n",
      "Loss = 48.145301818847656\n",
      "Episode 849: Reward = 156.52\n",
      "Loss = 49.311561584472656\n",
      "Episode 874: Reward = 154.64\n",
      "Loss = 48.09125900268555\n",
      "Episode 899: Reward = 157.48\n",
      "Loss = 49.175052642822266\n",
      "Episode 924: Reward = 153.28\n",
      "Loss = 47.538551330566406\n",
      "Episode 949: Reward = 180.88\n",
      "Loss = 53.34598159790039\n",
      "Episode 974: Reward = 173.16\n",
      "Loss = 51.2634162902832\n",
      "Episode 999: Reward = 174.44\n",
      "Loss = 51.97820281982422\n",
      "Episode 1024: Reward = 183.48\n",
      "Loss = 53.07311248779297\n",
      "Episode 1049: Reward = 180.24\n",
      "Loss = 52.64406967163086\n",
      "Episode 1074: Reward = 180.48\n",
      "Loss = 52.846126556396484\n",
      "Episode 1099: Reward = 168.2\n",
      "Loss = 50.0306510925293\n",
      "Episode 1124: Reward = 177.56\n",
      "Loss = 52.40961456298828\n",
      "Episode 1149: Reward = 179.36\n",
      "Loss = 50.84498596191406\n",
      "Episode 1174: Reward = 185.64\n",
      "Loss = 52.313114166259766\n",
      "Episode 1199: Reward = 174.32\n",
      "Loss = 49.685646057128906\n",
      "Episode 1224: Reward = 178.64\n",
      "Loss = 50.878517150878906\n",
      "Episode 1249: Reward = 176.0\n",
      "Loss = 52.2269287109375\n",
      "Episode 1274: Reward = 184.72\n",
      "Loss = 54.11167526245117\n",
      "Episode 1299: Reward = 184.0\n",
      "Loss = 52.93962860107422\n",
      "Episode 1324: Reward = 183.84\n",
      "Loss = 53.409934997558594\n",
      "Episode 1349: Reward = 187.8\n",
      "Loss = 54.92655563354492\n",
      "Episode 1374: Reward = 188.72\n",
      "Loss = 53.446678161621094\n",
      "Episode 1399: Reward = 195.28\n",
      "Loss = 55.50442123413086\n",
      "Episode 1424: Reward = 191.08\n",
      "Loss = 54.324588775634766\n",
      "Episode 1449: Reward = 187.76\n",
      "Loss = 54.32591247558594\n",
      "Episode 1474: Reward = 195.44\n",
      "Loss = 54.57959747314453\n",
      "Episode 1499: Reward = 184.44\n",
      "Loss = 52.90327072143555\n",
      "Episode 1524: Reward = 196.4\n",
      "Loss = 55.03306579589844\n",
      "Episode 1549: Reward = 187.96\n",
      "Loss = 54.04304885864258\n",
      "Episode 1574: Reward = 182.12\n",
      "Loss = 52.588294982910156\n",
      "Episode 1599: Reward = 200.0\n",
      "Loss = 55.805686950683594\n",
      "Episode 1624: Reward = 195.24\n",
      "Loss = 55.648170471191406\n",
      "Episode 1649: Reward = 196.96\n",
      "Loss = 55.68291091918945\n",
      "Episode 1674: Reward = 193.92\n",
      "Loss = 54.88947677612305\n",
      "Stopping Criteria Achieved\n"
     ]
    }
   ],
   "source": [
    "n_episodes = 2000\n",
    "n_episodes_before_train = 25\n",
    "\n",
    "episode_rewards = []\n",
    "\n",
    "observations = []\n",
    "actions = []\n",
    "rewards = []\n",
    "\n",
    "net = tf.keras.Sequential([\n",
    "    tf.keras.layers.Dense(16, activation=tf.nn.relu, input_shape=(n_obs_params, )),\n",
    "    tf.keras.layers.Dense(n_acts)\n",
    "])\n",
    "\n",
    "optimizer = tf.train.AdamOptimizer(learning_rate=1e-2)\n",
    "\n",
    "for episode in range(n_episodes):\n",
    "    ep_observations, ep_actions, ep_rewards = play_episode(net)\n",
    "    observations += ep_observations\n",
    "    actions += ep_actions\n",
    "    ep_reward = sum(ep_rewards)\n",
    "    episode_rewards.append(ep_reward)\n",
    "    _convert_rewards_to_advantages(ep_rewards)\n",
    "    rewards += ep_rewards\n",
    "    \n",
    "    if (episode + 1) % n_episodes_before_train == 0:\n",
    "        loss = train(net, optimizer, observations, actions, rewards)\n",
    "        observations = []\n",
    "        actions = []\n",
    "        rewards = []\n",
    "        \n",
    "        print('Episode {}: Reward = {}'.format(episode, np.mean(episode_rewards[-n_episodes_before_train:])))\n",
    "        print('Loss = {}'.format(loss))\n",
    "        \n",
    "        if len(episode_rewards) > 100 and np.mean(episode_rewards[-100:]) >= 195:\n",
    "            net.save('./model/net.h5')\n",
    "            print('Stopping Criteria Achieved')\n",
    "            break"
   ]
  },
  {
   "cell_type": "code",
   "execution_count": null,
   "metadata": {},
   "outputs": [],
   "source": []
  }
 ],
 "metadata": {
  "kernelspec": {
   "display_name": "Python 3",
   "language": "python",
   "name": "python3"
  },
  "language_info": {
   "codemirror_mode": {
    "name": "ipython",
    "version": 3
   },
   "file_extension": ".py",
   "mimetype": "text/x-python",
   "name": "python",
   "nbconvert_exporter": "python",
   "pygments_lexer": "ipython3",
   "version": "3.5.4"
  }
 },
 "nbformat": 4,
 "nbformat_minor": 2
}
